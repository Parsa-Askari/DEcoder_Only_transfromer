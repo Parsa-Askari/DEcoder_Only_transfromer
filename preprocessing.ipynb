{
 "cells": [
  {
   "cell_type": "code",
   "execution_count": 1,
   "metadata": {},
   "outputs": [],
   "source": [
    "from libraries import PreprocessDailydialog , PreprocessEmpathy , processs ,read_tokenized_data ,dataset\n",
    "import os\n",
    "import pandas as pd"
   ]
  },
  {
   "cell_type": "code",
   "execution_count": 2,
   "metadata": {},
   "outputs": [],
   "source": [
    "empathy_path=\"./data/empatheticdialogues/\"\n",
    "daily_path=\"./data/dailydialog/\"\n",
    "out_empathy_path=\"./data/empatheticdialogues/processed/\"\n",
    "out_daily_path=\"./data/dailydialog/processed/\"\n",
    "combine_path=\"./data/full/\""
   ]
  },
  {
   "cell_type": "code",
   "execution_count": 3,
   "metadata": {},
   "outputs": [
    {
     "name": "stdout",
     "output_type": "stream",
     "text": [
      "Selecting columns\n"
     ]
    },
    {
     "name": "stderr",
     "output_type": "stream",
     "text": [
      "100%|██████████| 84169/84169 [00:00<00:00, 643961.01it/s]\n",
      "100%|██████████| 10973/10973 [00:00<00:00, 184762.27it/s]\n",
      "100%|██████████| 12078/12078 [00:00<00:00, 149151.77it/s]\n"
     ]
    },
    {
     "name": "stdout",
     "output_type": "stream",
     "text": [
      "Cleaning data\n"
     ]
    },
    {
     "name": "stderr",
     "output_type": "stream",
     "text": [
      "100%|██████████| 84169/84169 [00:28<00:00, 2917.96it/s]\n",
      "100%|██████████| 10973/10973 [00:03<00:00, 3345.43it/s]\n",
      "100%|██████████| 12078/12078 [00:03<00:00, 3275.36it/s]\n"
     ]
    },
    {
     "name": "stdout",
     "output_type": "stream",
     "text": [
      "Saving the data to ./data/empatheticdialogues/processed/\n"
     ]
    }
   ],
   "source": [
    "pre1=PreprocessEmpathy(empathy_path,out_empathy_path)\n",
    "pre1.transform()"
   ]
  },
  {
   "cell_type": "code",
   "execution_count": 4,
   "metadata": {},
   "outputs": [
    {
     "name": "stdout",
     "output_type": "stream",
     "text": [
      "Selecting columns\n"
     ]
    },
    {
     "name": "stderr",
     "output_type": "stream",
     "text": [
      "100%|██████████| 11118/11118 [00:00<00:00, 262111.58it/s]\n",
      "100%|██████████| 1000/1000 [00:00<00:00, 277272.69it/s]\n",
      "100%|██████████| 1000/1000 [00:00<00:00, 237772.34it/s]\n"
     ]
    },
    {
     "name": "stdout",
     "output_type": "stream",
     "text": [
      "Cleaning data\n"
     ]
    },
    {
     "name": "stderr",
     "output_type": "stream",
     "text": [
      "100%|██████████| 87170/87170 [00:28<00:00, 3051.33it/s]\n",
      "100%|██████████| 7740/7740 [00:03<00:00, 2336.39it/s]\n",
      "100%|██████████| 8069/8069 [00:03<00:00, 2358.37it/s]\n"
     ]
    },
    {
     "name": "stdout",
     "output_type": "stream",
     "text": [
      "Saving the data to ./data/dailydialog/processed/\n"
     ]
    }
   ],
   "source": [
    "pre2=PreprocessDailydialog(daily_path,out_daily_path)\n",
    "pre2.transform()"
   ]
  },
  {
   "cell_type": "code",
   "execution_count": null,
   "metadata": {},
   "outputs": [],
   "source": [
    "empathy_train=os.path.join(out_empathy_path,\"train.csv\")\n",
    "empathy_test=os.path.join(out_empathy_path,\"test.csv\")\n",
    "empathy_valid=os.path.join(out_empathy_path,\"valid.csv\")\n",
    "\n",
    "daily_train=os.path.join(out_daily_path,\"train.csv\")\n",
    "daily_test=os.path.join(out_daily_path,\"test.csv\")\n",
    "daily_valid=os.path.join(out_daily_path,\"valid.csv\")\n",
    "\n",
    "train_df=pd.concat([pd.read_csv(empathy_train),pd.read_csv(daily_train)],axis=0)\n",
    "valid_df=pd.concat([pd.read_csv(empathy_valid),pd.read_csv(daily_valid)],axis=0)\n",
    "test_df=pd.concat([pd.read_csv(empathy_test),pd.read_csv(daily_test)],axis=0)\n",
    "train_df.to_csv(os.path.join(combine_path,\"train.csv\"),index=False)\n",
    "valid_df.to_csv(os.path.join(combine_path,\"valid.csv\"),index=False)\n",
    "test_df.to_csv(os.path.join(combine_path,\"test.csv\"),index=False)"
   ]
  },
  {
   "cell_type": "code",
   "execution_count": 2,
   "metadata": {},
   "outputs": [
    {
     "data": {
      "application/vnd.jupyter.widget-view+json": {
       "model_id": "0e57802bdb324c0b8da9b8274721590c",
       "version_major": 2,
       "version_minor": 0
      },
      "text/plain": [
       "  0%|          | 0/171259 [00:00<?, ?it/s]"
      ]
     },
     "metadata": {},
     "output_type": "display_data"
    },
    {
     "name": "stdout",
     "output_type": "stream",
     "text": [
      "288\n"
     ]
    },
    {
     "data": {
      "application/vnd.jupyter.widget-view+json": {
       "model_id": "a6ac5666157b4759a7ffd7b1dd5dfe6b",
       "version_major": 2,
       "version_minor": 0
      },
      "text/plain": [
       "0it [00:00, ?it/s]"
      ]
     },
     "metadata": {},
     "output_type": "display_data"
    },
    {
     "data": {
      "application/vnd.jupyter.widget-view+json": {
       "model_id": "f4b0b6b72be54d8ebe491b5efb02b0f6",
       "version_major": 2,
       "version_minor": 0
      },
      "text/plain": [
       "  0%|          | 0/20141 [00:00<?, ?it/s]"
      ]
     },
     "metadata": {},
     "output_type": "display_data"
    },
    {
     "data": {
      "application/vnd.jupyter.widget-view+json": {
       "model_id": "f4fa091eee5d4608911853c44a64c0c3",
       "version_major": 2,
       "version_minor": 0
      },
      "text/plain": [
       "  0%|          | 0/18698 [00:00<?, ?it/s]"
      ]
     },
     "metadata": {},
     "output_type": "display_data"
    },
    {
     "data": {
      "application/vnd.jupyter.widget-view+json": {
       "model_id": "9211128d3cd644d3806ea9f2e9cb142b",
       "version_major": 2,
       "version_minor": 0
      },
      "text/plain": [
       "  0%|          | 0/171259 [00:00<?, ?it/s]"
      ]
     },
     "metadata": {},
     "output_type": "display_data"
    },
    {
     "data": {
      "application/vnd.jupyter.widget-view+json": {
       "model_id": "47837015020a4efd9d3d663bbf7c513c",
       "version_major": 2,
       "version_minor": 0
      },
      "text/plain": [
       "  0%|          | 0/20141 [00:00<?, ?it/s]"
      ]
     },
     "metadata": {},
     "output_type": "display_data"
    },
    {
     "data": {
      "application/vnd.jupyter.widget-view+json": {
       "model_id": "4893e1ffc2ab4b9fb552b8b72293229c",
       "version_major": 2,
       "version_minor": 0
      },
      "text/plain": [
       "  0%|          | 0/18698 [00:00<?, ?it/s]"
      ]
     },
     "metadata": {},
     "output_type": "display_data"
    }
   ],
   "source": [
    "p=processs()\n",
    "p.standard_pipeline()"
   ]
  },
  {
   "cell_type": "code",
   "execution_count": 25,
   "metadata": {},
   "outputs": [],
   "source": [
    "import importlib\n",
    "import libraries.data\n",
    "import libraries.preprocess\n",
    "importlib.reload(libraries.data)\n",
    "importlib.reload(libraries.preprocess)\n",
    "\n",
    "\n",
    "from libraries.data import *\n",
    "from libraries.preprocess import *\n",
    "\n",
    "import os\n",
    "import pandas as pd\n",
    "from functools import partial\n",
    "from torch.utils.data import DataLoader"
   ]
  },
  {
   "cell_type": "code",
   "execution_count": 27,
   "metadata": {},
   "outputs": [],
   "source": [
    "train,valid,test,vocab,Index,PAD,EOS,SOS,UKN,max_size=read_tokenized_data()"
   ]
  },
  {
   "cell_type": "code",
   "execution_count": 3,
   "metadata": {},
   "outputs": [],
   "source": [
    "ds=dataset(train)"
   ]
  },
  {
   "cell_type": "code",
   "execution_count": 4,
   "metadata": {},
   "outputs": [],
   "source": [
    "cl=partial(collect_fn, pad=Index[PAD])"
   ]
  },
  {
   "cell_type": "code",
   "execution_count": 5,
   "metadata": {},
   "outputs": [],
   "source": [
    "dl=DataLoader(ds,batch_size=32,collate_fn=cl)"
   ]
  },
  {
   "cell_type": "code",
   "execution_count": 6,
   "metadata": {},
   "outputs": [
    {
     "name": "stdout",
     "output_type": "stream",
     "text": [
      "torch.Size([32, 43]) torch.Size([32, 43])\n",
      "torch.Size([32, 37]) torch.Size([32, 37])\n",
      "torch.Size([32, 45]) torch.Size([32, 45])\n"
     ]
    }
   ],
   "source": [
    "co=0\n",
    "for x,y in dl:\n",
    "    print(x.shape,y.shape)\n",
    "    if(co==2):\n",
    "        break\n",
    "    co+=1"
   ]
  },
  {
   "cell_type": "code",
   "execution_count": 32,
   "metadata": {},
   "outputs": [
    {
     "data": {
      "text/plain": [
       "tensor([[ 0.0000,  1.0000,  0.0000,  1.0000],\n",
       "        [ 0.8415,  0.5403,  0.0998,  0.9950],\n",
       "        [ 0.9093, -0.4161,  0.1987,  0.9801],\n",
       "        [ 0.1411, -0.9900,  0.2955,  0.9553]])"
      ]
     },
     "execution_count": 32,
     "metadata": {},
     "output_type": "execute_result"
    }
   ],
   "source": [
    "PositionalEncoding(4,4,n=100)"
   ]
  },
  {
   "cell_type": "code",
   "execution_count": 1,
   "metadata": {},
   "outputs": [],
   "source": [
    "import torch"
   ]
  },
  {
   "cell_type": "code",
   "execution_count": 16,
   "metadata": {},
   "outputs": [],
   "source": [
    "l1=torch.zeros(32,1)\n",
    "l2=torch.zeros(32,256)\n"
   ]
  },
  {
   "cell_type": "code",
   "execution_count": 18,
   "metadata": {},
   "outputs": [
    {
     "ename": "ValueError",
     "evalue": "only one element tensors can be converted to Python scalars",
     "output_type": "error",
     "traceback": [
      "\u001b[0;31m---------------------------------------------------------------------------\u001b[0m",
      "\u001b[0;31mValueError\u001b[0m                                Traceback (most recent call last)",
      "Cell \u001b[0;32mIn[18], line 2\u001b[0m\n\u001b[1;32m      1\u001b[0m ls\u001b[38;5;241m=\u001b[39m[torch\u001b[38;5;241m.\u001b[39mrand(\u001b[38;5;241m32\u001b[39m,\u001b[38;5;241m1\u001b[39m),torch\u001b[38;5;241m.\u001b[39mrand(\u001b[38;5;241m32\u001b[39m,\u001b[38;5;241m1\u001b[39m)]\n\u001b[0;32m----> 2\u001b[0m \u001b[43mtorch\u001b[49m\u001b[38;5;241;43m.\u001b[39;49m\u001b[43mtensor\u001b[49m\u001b[43m(\u001b[49m\u001b[43mls\u001b[49m\u001b[43m)\u001b[49m\u001b[38;5;241m.\u001b[39mshape\n",
      "\u001b[0;31mValueError\u001b[0m: only one element tensors can be converted to Python scalars"
     ]
    }
   ],
   "source": [
    "ls=[torch.rand(32,1),torch.rand(32,1)]\n"
   ]
  },
  {
   "cell_type": "code",
   "execution_count": 27,
   "metadata": {},
   "outputs": [
    {
     "name": "stdout",
     "output_type": "stream",
     "text": [
      "torch.Size([32, 256])\n"
     ]
    }
   ],
   "source": [
    "l=0\n",
    "attentions=torch.unsqueeze(torch.rand(32,3),dim=-1)\n",
    "value=torch.rand(32,256)\n",
    "for i in range(attentions.shape[1]):\n",
    "    l+=value*attentions[:,i]\n",
    "print(l.shape)"
   ]
  },
  {
   "cell_type": "code",
   "execution_count": 32,
   "metadata": {},
   "outputs": [
    {
     "data": {
      "text/plain": [
       "torch.Size([2, 10])"
      ]
     },
     "execution_count": 32,
     "metadata": {},
     "output_type": "execute_result"
    }
   ],
   "source": [
    "ls=torch.tensor([[3,4,0,1],[2,1,3,0]])\n",
    "emb=torch.nn.Embedding(num_embeddings=5,embedding_dim=10)\n",
    "l=emb(ls)\n",
    "l[:,0].shape"
   ]
  },
  {
   "cell_type": "code",
   "execution_count": null,
   "metadata": {},
   "outputs": [],
   "source": [
    "l.reshape()"
   ]
  }
 ],
 "metadata": {
  "kernelspec": {
   "display_name": "AI",
   "language": "python",
   "name": "ai"
  },
  "language_info": {
   "codemirror_mode": {
    "name": "ipython",
    "version": 3
   },
   "file_extension": ".py",
   "mimetype": "text/x-python",
   "name": "python",
   "nbconvert_exporter": "python",
   "pygments_lexer": "ipython3",
   "version": "3.10.12"
  }
 },
 "nbformat": 4,
 "nbformat_minor": 4
}
